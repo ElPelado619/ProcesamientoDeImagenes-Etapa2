{
 "cells": [
  {
   "cell_type": "markdown",
   "id": "e2641bdf",
   "metadata": {},
   "source": [
    "# Trabajo Práctico 1 - Procesamiento de Imágenes"
   ]
  }
 ],
 "metadata": {
  "language_info": {
   "name": "python"
  }
 },
 "nbformat": 4,
 "nbformat_minor": 5
}
